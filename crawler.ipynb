{
 "cells": [
  {
   "cell_type": "code",
   "execution_count": 27,
   "metadata": {},
   "outputs": [],
   "source": [
    "import os\n",
    "import io\n",
    "\n",
    "import pandas as pd\n",
    "import numpy as np\n",
    "from bs4 import BeautifulSoup\n",
    "import requests"
   ]
  },
  {
   "cell_type": "code",
   "execution_count": 3,
   "metadata": {},
   "outputs": [],
   "source": [
    "base_url = 'https://etherscan.io'\n",
    "contracts_verified_url = base_url + '/contractsVerified'\n",
    "contract_address_base_url = base_url + '/address/'"
   ]
  },
  {
   "cell_type": "code",
   "execution_count": 7,
   "metadata": {},
   "outputs": [],
   "source": [
    "def parse_html(url, class_):\n",
    "    req = requests.get(url)\n",
    "    soup = BeautifulSoup(req.text, 'lxml')\n",
    "    return soup.find(class_=class_)"
   ]
  },
  {
   "cell_type": "code",
   "execution_count": 8,
   "metadata": {},
   "outputs": [
    {
     "data": {
      "text/html": [
       "<div>\n",
       "<style scoped>\n",
       "    .dataframe tbody tr th:only-of-type {\n",
       "        vertical-align: middle;\n",
       "    }\n",
       "\n",
       "    .dataframe tbody tr th {\n",
       "        vertical-align: top;\n",
       "    }\n",
       "\n",
       "    .dataframe thead th {\n",
       "        text-align: right;\n",
       "    }\n",
       "</style>\n",
       "<table border=\"1\" class=\"dataframe\">\n",
       "  <thead>\n",
       "    <tr style=\"text-align: right;\">\n",
       "      <th></th>\n",
       "      <th>Address</th>\n",
       "      <th>ContractName</th>\n",
       "      <th>Compiler</th>\n",
       "      <th>Balance</th>\n",
       "      <th>TxCount</th>\n",
       "      <th>Settings</th>\n",
       "      <th>DateVerified</th>\n",
       "    </tr>\n",
       "  </thead>\n",
       "  <tbody>\n",
       "    <tr>\n",
       "      <th>0</th>\n",
       "      <td>0x6c00afe8618FEB85095b2C4C3c27441B22DB2d12</td>\n",
       "      <td>CNKTToken</td>\n",
       "      <td>v0.4.25</td>\n",
       "      <td>-</td>\n",
       "      <td>0</td>\n",
       "      <td>NaN</td>\n",
       "      <td>10/19/2018</td>\n",
       "    </tr>\n",
       "    <tr>\n",
       "      <th>1</th>\n",
       "      <td>0x5c6d8bb345f4299c76f24fc771ef04dd160c4d36</td>\n",
       "      <td>EthCrystal</td>\n",
       "      <td>v0.4.25</td>\n",
       "      <td>0 Ether</td>\n",
       "      <td>1</td>\n",
       "      <td>NaN</td>\n",
       "      <td>10/19/2018</td>\n",
       "    </tr>\n",
       "    <tr>\n",
       "      <th>2</th>\n",
       "      <td>0x95b268743adc0a1f885c040010e85641b08c9b38</td>\n",
       "      <td>CCT</td>\n",
       "      <td>v0.4.11</td>\n",
       "      <td>0 Ether</td>\n",
       "      <td>1</td>\n",
       "      <td>-</td>\n",
       "      <td>10/19/2018</td>\n",
       "    </tr>\n",
       "    <tr>\n",
       "      <th>3</th>\n",
       "      <td>0xf57263953d4d02707cc26b64b920820cd310a01d</td>\n",
       "      <td>ERC20PositionWithdrawerV2</td>\n",
       "      <td>v0.4.24</td>\n",
       "      <td>0 Ether</td>\n",
       "      <td>1</td>\n",
       "      <td>NaN</td>\n",
       "      <td>10/19/2018</td>\n",
       "    </tr>\n",
       "    <tr>\n",
       "      <th>4</th>\n",
       "      <td>0x5481e2886c559b7ae27197227c6f4a9bd4f20538</td>\n",
       "      <td>DAY</td>\n",
       "      <td>v0.4.24</td>\n",
       "      <td>0 Ether</td>\n",
       "      <td>1</td>\n",
       "      <td>NaN</td>\n",
       "      <td>10/19/2018</td>\n",
       "    </tr>\n",
       "  </tbody>\n",
       "</table>\n",
       "</div>"
      ],
      "text/plain": [
       "                                      Address               ContractName  \\\n",
       "0  0x6c00afe8618FEB85095b2C4C3c27441B22DB2d12                  CNKTToken   \n",
       "1  0x5c6d8bb345f4299c76f24fc771ef04dd160c4d36                 EthCrystal   \n",
       "2  0x95b268743adc0a1f885c040010e85641b08c9b38                        CCT   \n",
       "3  0xf57263953d4d02707cc26b64b920820cd310a01d  ERC20PositionWithdrawerV2   \n",
       "4  0x5481e2886c559b7ae27197227c6f4a9bd4f20538                        DAY   \n",
       "\n",
       "  Compiler  Balance  TxCount Settings DateVerified  \n",
       "0  v0.4.25        -        0      NaN   10/19/2018  \n",
       "1  v0.4.25  0 Ether        1      NaN   10/19/2018  \n",
       "2  v0.4.11  0 Ether        1        -   10/19/2018  \n",
       "3  v0.4.24  0 Ether        1      NaN   10/19/2018  \n",
       "4  v0.4.24  0 Ether        1      NaN   10/19/2018  "
      ]
     },
     "execution_count": 8,
     "metadata": {},
     "output_type": "execute_result"
    }
   ],
   "source": [
    "contracts_verified_table = parse_html(url=contracts_verified_url, class_='table-hover')\n",
    "contracts_verified_df = pd.read_html(str(contracts_verified_table))[0]\n",
    "contracts_verified_df.head()"
   ]
  },
  {
   "cell_type": "code",
   "execution_count": 31,
   "metadata": {},
   "outputs": [
    {
     "name": "stdout",
     "output_type": "stream",
     "text": [
      "save: address: 0x6 CNKTToken\n",
      "save: address: 0x5 EthCrystal\n",
      "save: address: 0x9 CCT\n"
     ]
    }
   ],
   "source": [
    "for idx, row in contracts_verified_df.head(3).iterrows():\n",
    "    contract_address_url = contract_address_base_url + row['Address']\n",
    "    contract_code = parse_html(url=contract_address_url, class_='js-sourcecopyarea').contents[0]\n",
    "\n",
    "    contract_path = 'contract/{}.sol'.format(row['ContractName'])\n",
    "    with io.open(contract_path, 'w', encoding='utf8') as f:\n",
    "        f.write(contract_code)\n",
    "\n",
    "    print('save:', 'address:', row['Address'][:10], row['ContractName'])"
   ]
  },
  {
   "cell_type": "code",
   "execution_count": null,
   "metadata": {},
   "outputs": [],
   "source": []
  }
 ],
 "metadata": {
  "kernelspec": {
   "display_name": "Python [default]",
   "language": "python",
   "name": "python3"
  },
  "language_info": {
   "codemirror_mode": {
    "name": "ipython",
    "version": 3
   },
   "file_extension": ".py",
   "mimetype": "text/x-python",
   "name": "python",
   "nbconvert_exporter": "python",
   "pygments_lexer": "ipython3",
   "version": "3.6.6"
  }
 },
 "nbformat": 4,
 "nbformat_minor": 2
}
